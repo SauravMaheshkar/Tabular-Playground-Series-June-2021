{
 "cells": [
  {
   "cell_type": "markdown",
   "id": "accredited-chorus",
   "metadata": {
    "papermill": {
     "duration": 0.017552,
     "end_time": "2021-06-01T05:24:03.426186",
     "exception": false,
     "start_time": "2021-06-01T05:24:03.408634",
     "status": "completed"
    },
    "tags": []
   },
   "source": [
    "![](https://github.com/SauravMaheshkar/Tabular-Playground-Series-June-2021/blob/main/assets/TPS%20June%202021.png?raw=true)\n",
    "\n",
    "# Table of Contents\n",
    "\n",
    "1. [**Packages 📦 and Basic Setup**](#basic)\n",
    "2. [**Pre-Processing 👎🏻 -> 👍**](#process)\n",
    "3. [**The Model 👷‍♀️**](#model)\n",
    "4. [**Training 💪🏻**](#train)"
   ]
  },
  {
   "cell_type": "markdown",
   "id": "unavailable-concert",
   "metadata": {
    "papermill": {
     "duration": 0.015969,
     "end_time": "2021-06-01T05:24:03.458729",
     "exception": false,
     "start_time": "2021-06-01T05:24:03.442760",
     "status": "completed"
    },
    "tags": []
   },
   "source": [
    "<a id = 'basic'> </a>\n",
    "# Packages 📦 and Basic Setup\n",
    "\n",
    "Initially introduced in the paper titled [**\"TabNet: Attentive Interpretable Tabular Learning\"**](https://arxiv.org/pdf/1908.07442.pdf), TabNet is a novel high-performance and interpretable canonical deep tabular data learning architecture. It uses sequential attention to choose which features to reason from at each decision step, enabling interpretability and more efficient learning as the learning capacity is used for the most salient features.\n",
    "\n",
    "![](https://github.com/SauravMaheshkar/Tabular-Playground-Series-May-2021/blob/main/assets/tabnet.png?raw=true)\n",
    "\n",
    "A Pytorch Implementation of Tabnet has been made available by the team at [**dreamquark-ai**](https://github.com/dreamquark-ai/tabnet). We can simply install the package using `pip`.\n",
    "```\n",
    "pip install pytorch-tabnet\n",
    "```\n",
    "\n",
    "This kernel aims to be a starter notebook for you to add your own pre-processing / parameters."
   ]
  },
  {
   "cell_type": "code",
   "execution_count": 1,
   "id": "political-titanium",
   "metadata": {
    "_execution_state": "idle",
    "_kg_hide-input": true,
    "_kg_hide-output": true,
    "_uuid": "051d70d956493feee0c6d64651c6a088724dca2a",
    "execution": {
     "iopub.execute_input": "2021-06-01T05:24:03.497011Z",
     "iopub.status.busy": "2021-06-01T05:24:03.495206Z",
     "iopub.status.idle": "2021-06-01T05:24:12.175260Z",
     "shell.execute_reply": "2021-06-01T05:24:12.174570Z",
     "shell.execute_reply.started": "2021-06-01T01:29:13.247464Z"
    },
    "papermill": {
     "duration": 8.700485,
     "end_time": "2021-06-01T05:24:12.175432",
     "exception": false,
     "start_time": "2021-06-01T05:24:03.474947",
     "status": "completed"
    },
    "tags": []
   },
   "outputs": [],
   "source": [
    "%%capture\n",
    "!pip install pytorch-tabnet"
   ]
  },
  {
   "cell_type": "code",
   "execution_count": 2,
   "id": "incident-egyptian",
   "metadata": {
    "execution": {
     "iopub.execute_input": "2021-06-01T05:24:12.214232Z",
     "iopub.status.busy": "2021-06-01T05:24:12.213568Z",
     "iopub.status.idle": "2021-06-01T05:24:15.609165Z",
     "shell.execute_reply": "2021-06-01T05:24:15.608512Z",
     "shell.execute_reply.started": "2021-06-01T01:29:22.239961Z"
    },
    "papermill": {
     "duration": 3.417225,
     "end_time": "2021-06-01T05:24:15.609297",
     "exception": false,
     "start_time": "2021-06-01T05:24:12.192072",
     "status": "completed"
    },
    "tags": []
   },
   "outputs": [],
   "source": [
    "import torch\n",
    "import numpy as np\n",
    "import pandas as pd\n",
    "import matplotlib.pyplot as plt\n",
    "from sklearn.preprocessing import LabelEncoder\n",
    "from pytorch_tabnet.tab_model import TabNetClassifier\n",
    "from pytorch_tabnet.pretraining import TabNetPretrainer\n",
    "\n",
    "train = pd.read_csv(\"../input/tabular-playground-series-jun-2021/train.csv\")"
   ]
  },
  {
   "cell_type": "markdown",
   "id": "conventional-freight",
   "metadata": {
    "papermill": {
     "duration": 0.017521,
     "end_time": "2021-06-01T05:24:15.644765",
     "exception": false,
     "start_time": "2021-06-01T05:24:15.627244",
     "status": "completed"
    },
    "tags": []
   },
   "source": [
    "<a id = 'process'></a>\n",
    "# Pre-Processing 👎🏻 -> 👍"
   ]
  },
  {
   "cell_type": "code",
   "execution_count": 3,
   "id": "latter-solomon",
   "metadata": {
    "execution": {
     "iopub.execute_input": "2021-06-01T05:24:15.691193Z",
     "iopub.status.busy": "2021-06-01T05:24:15.690462Z",
     "iopub.status.idle": "2021-06-01T05:24:34.804551Z",
     "shell.execute_reply": "2021-06-01T05:24:34.805074Z",
     "shell.execute_reply.started": "2021-06-01T01:29:25.923004Z"
    },
    "papermill": {
     "duration": 19.144269,
     "end_time": "2021-06-01T05:24:34.805270",
     "exception": false,
     "start_time": "2021-06-01T05:24:15.661001",
     "status": "completed"
    },
    "tags": []
   },
   "outputs": [],
   "source": [
    "# Normalization\n",
    "for i in range(75):\n",
    "    mean, std = train[f'feature_{i}'].mean(), train[f'feature_{i}'].std()\n",
    "    train[f'feature_{i}'] = train[f'feature_{i}'].apply(lambda x : (x-mean)/std)"
   ]
  },
  {
   "cell_type": "markdown",
   "id": "touched-spending",
   "metadata": {
    "papermill": {
     "duration": 0.016288,
     "end_time": "2021-06-01T05:24:34.838720",
     "exception": false,
     "start_time": "2021-06-01T05:24:34.822432",
     "status": "completed"
    },
    "tags": []
   },
   "source": [
    "We'll split the dataset into a **80-10-10 split** for training, validation and test respectively."
   ]
  },
  {
   "cell_type": "code",
   "execution_count": 4,
   "id": "disturbed-being",
   "metadata": {
    "execution": {
     "iopub.execute_input": "2021-06-01T05:24:34.877955Z",
     "iopub.status.busy": "2021-06-01T05:24:34.877315Z",
     "iopub.status.idle": "2021-06-01T05:24:35.131681Z",
     "shell.execute_reply": "2021-06-01T05:24:35.131124Z",
     "shell.execute_reply.started": "2021-06-01T01:29:31.69628Z"
    },
    "papermill": {
     "duration": 0.276496,
     "end_time": "2021-06-01T05:24:35.131818",
     "exception": false,
     "start_time": "2021-06-01T05:24:34.855322",
     "status": "completed"
    },
    "tags": []
   },
   "outputs": [],
   "source": [
    "# Train, Test, Validation Split\n",
    "target = 'target'\n",
    "if \"Set\" not in train.columns:\n",
    "    train[\"Set\"] = np.random.choice([\"train\", \"valid\", \"test\"], p =[.8, .1, .1], size=(train.shape[0],))\n",
    "\n",
    "train_indices = train[train.Set==\"train\"].index\n",
    "valid_indices = train[train.Set==\"valid\"].index\n",
    "test_indices = train[train.Set==\"test\"].index"
   ]
  },
  {
   "cell_type": "markdown",
   "id": "absolute-ottawa",
   "metadata": {
    "papermill": {
     "duration": 0.016028,
     "end_time": "2021-06-01T05:24:35.164310",
     "exception": false,
     "start_time": "2021-06-01T05:24:35.148282",
     "status": "completed"
    },
    "tags": []
   },
   "source": [
    "Fill NaN values + **optional** script for object columns"
   ]
  },
  {
   "cell_type": "code",
   "execution_count": 5,
   "id": "first-forward",
   "metadata": {
    "execution": {
     "iopub.execute_input": "2021-06-01T05:24:35.203908Z",
     "iopub.status.busy": "2021-06-01T05:24:35.203240Z",
     "iopub.status.idle": "2021-06-01T05:24:41.142265Z",
     "shell.execute_reply": "2021-06-01T05:24:41.143012Z",
     "shell.execute_reply.started": "2021-06-01T01:29:31.946747Z"
    },
    "papermill": {
     "duration": 5.962606,
     "end_time": "2021-06-01T05:24:41.143180",
     "exception": false,
     "start_time": "2021-06-01T05:24:35.180574",
     "status": "completed"
    },
    "tags": []
   },
   "outputs": [
    {
     "name": "stdout",
     "output_type": "stream",
     "text": [
      "target 9\n",
      "Set 3\n"
     ]
    }
   ],
   "source": [
    "nunique = train.nunique()\n",
    "types = train.dtypes\n",
    "\n",
    "categorical_columns = []\n",
    "categorical_dims =  {}\n",
    "for col in train.columns:\n",
    "    if types[col] == 'object':\n",
    "        print(col, train[col].nunique())\n",
    "        l_enc = LabelEncoder()\n",
    "        train[col] = l_enc.fit_transform(train[col].values)\n",
    "        categorical_columns.append(col)\n",
    "        categorical_dims[col] = len(l_enc.classes_)\n",
    "    else:\n",
    "        train.fillna(train.loc[train_indices, col].mean(), inplace=True)"
   ]
  },
  {
   "cell_type": "markdown",
   "id": "fewer-transformation",
   "metadata": {
    "papermill": {
     "duration": 0.016148,
     "end_time": "2021-06-01T05:24:41.176064",
     "exception": false,
     "start_time": "2021-06-01T05:24:41.159916",
     "status": "completed"
    },
    "tags": []
   },
   "source": [
    "<a id = 'model'></a>\n",
    "# The Model 👷‍♀️"
   ]
  },
  {
   "cell_type": "code",
   "execution_count": 6,
   "id": "radical-mapping",
   "metadata": {
    "_kg_hide-input": true,
    "_kg_hide-output": true,
    "execution": {
     "iopub.execute_input": "2021-06-01T05:24:41.217270Z",
     "iopub.status.busy": "2021-06-01T05:24:41.216147Z",
     "iopub.status.idle": "2021-06-01T05:24:41.548346Z",
     "shell.execute_reply": "2021-06-01T05:24:41.548830Z",
     "shell.execute_reply.started": "2021-06-01T01:29:37.587339Z"
    },
    "papermill": {
     "duration": 0.356682,
     "end_time": "2021-06-01T05:24:41.549010",
     "exception": false,
     "start_time": "2021-06-01T05:24:41.192328",
     "status": "completed"
    },
    "tags": []
   },
   "outputs": [],
   "source": [
    "# Columns not to use\n",
    "unused_feat = ['Set']\n",
    "\n",
    "# Features to Use\n",
    "features = [ col for col in train.columns if col not in unused_feat+[target]] \n",
    "\n",
    "X_train = train[features].values[train_indices]\n",
    "y_train = train[target].values[train_indices]\n",
    "\n",
    "X_valid = train[features].values[valid_indices]\n",
    "y_valid = train[target].values[valid_indices]\n",
    "\n",
    "X_test = train[features].values[test_indices]\n",
    "y_test = train[target].values[test_indices]"
   ]
  },
  {
   "cell_type": "code",
   "execution_count": 7,
   "id": "ordinary-state",
   "metadata": {
    "execution": {
     "iopub.execute_input": "2021-06-01T05:24:41.588028Z",
     "iopub.status.busy": "2021-06-01T05:24:41.587383Z",
     "iopub.status.idle": "2021-06-01T05:24:41.590047Z",
     "shell.execute_reply": "2021-06-01T05:24:41.590492Z",
     "shell.execute_reply.started": "2021-06-01T01:29:37.995308Z"
    },
    "papermill": {
     "duration": 0.024992,
     "end_time": "2021-06-01T05:24:41.590644",
     "exception": false,
     "start_time": "2021-06-01T05:24:41.565652",
     "status": "completed"
    },
    "tags": []
   },
   "outputs": [],
   "source": [
    "# Basic model parameters\n",
    "max_epochs = 30\n",
    "batch_size = 1024\n",
    "opt = torch.optim.Adam # Optimizer\n",
    "opt_params = dict(lr=1e-3)\n",
    "sch = torch.optim.lr_scheduler.StepLR # LR Scheduler\n",
    "sch_params = {\"step_size\":10, \"gamma\":0.9}\n",
    "mask = 'entmax'\n",
    "workers = 2 # For torch DataLoader\n",
    "sample_type = 1 # For automated sampling with inverse class occurrences \n",
    "virtual_batch = 128 # Size of the mini batches used for \"Ghost Batch Normalization\""
   ]
  },
  {
   "cell_type": "markdown",
   "id": "comprehensive-rebound",
   "metadata": {
    "papermill": {
     "duration": 0.016148,
     "end_time": "2021-06-01T05:24:41.622918",
     "exception": false,
     "start_time": "2021-06-01T05:24:41.606770",
     "status": "completed"
    },
    "tags": []
   },
   "source": [
    "The paper highlights a semi-supervised pre-training method which is available via the **`TabNetPretrainer`** class. We'll use this pretrain this model and use it to boost the tabnet model performance as a unsupervised prior."
   ]
  },
  {
   "cell_type": "code",
   "execution_count": 8,
   "id": "persistent-diving",
   "metadata": {
    "execution": {
     "iopub.execute_input": "2021-06-01T05:24:41.660037Z",
     "iopub.status.busy": "2021-06-01T05:24:41.659370Z",
     "iopub.status.idle": "2021-06-01T05:24:41.667114Z",
     "shell.execute_reply": "2021-06-01T05:24:41.666347Z",
     "shell.execute_reply.started": "2021-06-01T01:29:38.002343Z"
    },
    "papermill": {
     "duration": 0.028132,
     "end_time": "2021-06-01T05:24:41.667286",
     "exception": false,
     "start_time": "2021-06-01T05:24:41.639154",
     "status": "completed"
    },
    "tags": []
   },
   "outputs": [
    {
     "name": "stdout",
     "output_type": "stream",
     "text": [
      "Device used : cpu\n"
     ]
    }
   ],
   "source": [
    "unsupervised_model = TabNetPretrainer(\n",
    "    optimizer_fn = opt,\n",
    "    optimizer_params = opt_params,\n",
    "    mask_type = mask)"
   ]
  },
  {
   "cell_type": "code",
   "execution_count": 9,
   "id": "unsigned-reconstruction",
   "metadata": {
    "execution": {
     "iopub.execute_input": "2021-06-01T05:24:41.706967Z",
     "iopub.status.busy": "2021-06-01T05:24:41.706208Z",
     "iopub.status.idle": "2021-06-01T05:24:41.711053Z",
     "shell.execute_reply": "2021-06-01T05:24:41.710439Z",
     "shell.execute_reply.started": "2021-06-01T01:29:38.029301Z"
    },
    "papermill": {
     "duration": 0.026149,
     "end_time": "2021-06-01T05:24:41.711190",
     "exception": false,
     "start_time": "2021-06-01T05:24:41.685041",
     "status": "completed"
    },
    "tags": []
   },
   "outputs": [
    {
     "name": "stdout",
     "output_type": "stream",
     "text": [
      "Device used : cpu\n"
     ]
    }
   ],
   "source": [
    "clf = TabNetClassifier(gamma = 1.5,\n",
    "                       lambda_sparse = 1e-4,\n",
    "                       optimizer_fn = opt,\n",
    "                       optimizer_params = opt_params,\n",
    "                       scheduler_fn = sch,\n",
    "                       scheduler_params = sch_params,\n",
    "                       mask_type = mask)"
   ]
  },
  {
   "cell_type": "markdown",
   "id": "rocky-mounting",
   "metadata": {
    "papermill": {
     "duration": 0.016688,
     "end_time": "2021-06-01T05:24:41.744934",
     "exception": false,
     "start_time": "2021-06-01T05:24:41.728246",
     "status": "completed"
    },
    "tags": []
   },
   "source": [
    "<a id = 'train'></a>\n",
    "# Training 💪🏻"
   ]
  },
  {
   "cell_type": "code",
   "execution_count": 10,
   "id": "adaptive-focus",
   "metadata": {
    "execution": {
     "iopub.execute_input": "2021-06-01T05:24:41.784745Z",
     "iopub.status.busy": "2021-06-01T05:24:41.784116Z",
     "iopub.status.idle": "2021-06-01T06:04:51.811626Z",
     "shell.execute_reply": "2021-06-01T06:04:51.812183Z"
    },
    "papermill": {
     "duration": 2410.050888,
     "end_time": "2021-06-01T06:04:51.812434",
     "exception": false,
     "start_time": "2021-06-01T05:24:41.761546",
     "status": "completed"
    },
    "tags": []
   },
   "outputs": [
    {
     "name": "stdout",
     "output_type": "stream",
     "text": [
      "epoch 0  | loss: 2.15703 | val_0_unsup_loss: 1.16246 |  0:00:24s\n",
      "epoch 1  | loss: 1.32068 | val_0_unsup_loss: 1.0884  |  0:00:49s\n",
      "epoch 2  | loss: 1.11549 | val_0_unsup_loss: 1.06558 |  0:01:13s\n",
      "epoch 3  | loss: 1.06661 | val_0_unsup_loss: 1.04843 |  0:01:37s\n",
      "epoch 4  | loss: 1.05236 | val_0_unsup_loss: 1.04514 |  0:02:02s\n",
      "epoch 5  | loss: 1.04408 | val_0_unsup_loss: 1.04248 |  0:02:26s\n",
      "epoch 6  | loss: 1.04439 | val_0_unsup_loss: 1.0402  |  0:02:51s\n",
      "epoch 7  | loss: 1.04013 | val_0_unsup_loss: 1.03906 |  0:03:15s\n",
      "epoch 8  | loss: 1.03951 | val_0_unsup_loss: 1.03736 |  0:03:39s\n",
      "epoch 9  | loss: 1.03838 | val_0_unsup_loss: 1.03626 |  0:04:03s\n",
      "epoch 10 | loss: 1.0388  | val_0_unsup_loss: 1.03537 |  0:04:28s\n",
      "epoch 11 | loss: 1.03642 | val_0_unsup_loss: 1.03469 |  0:04:52s\n",
      "epoch 12 | loss: 1.03696 | val_0_unsup_loss: 1.03431 |  0:05:16s\n",
      "epoch 13 | loss: 1.03615 | val_0_unsup_loss: 1.03222 |  0:05:40s\n",
      "epoch 14 | loss: 1.03412 | val_0_unsup_loss: 1.03084 |  0:06:05s\n",
      "epoch 15 | loss: 1.034   | val_0_unsup_loss: 1.03018 |  0:06:29s\n",
      "epoch 16 | loss: 1.03042 | val_0_unsup_loss: 1.02785 |  0:06:53s\n",
      "epoch 17 | loss: 1.03199 | val_0_unsup_loss: 1.02669 |  0:07:17s\n",
      "epoch 18 | loss: 1.03176 | val_0_unsup_loss: 1.02564 |  0:07:41s\n",
      "epoch 19 | loss: 1.02988 | val_0_unsup_loss: 1.0226  |  0:08:05s\n",
      "epoch 20 | loss: 1.02947 | val_0_unsup_loss: 1.02288 |  0:08:29s\n",
      "epoch 21 | loss: 1.02901 | val_0_unsup_loss: 1.02035 |  0:08:53s\n",
      "epoch 22 | loss: 1.02692 | val_0_unsup_loss: 1.01851 |  0:09:17s\n",
      "epoch 23 | loss: 1.02855 | val_0_unsup_loss: 1.01832 |  0:09:41s\n",
      "epoch 24 | loss: 1.02773 | val_0_unsup_loss: 1.01633 |  0:10:06s\n",
      "epoch 25 | loss: 1.0256  | val_0_unsup_loss: 1.01578 |  0:10:30s\n",
      "epoch 26 | loss: 1.02498 | val_0_unsup_loss: 1.01405 |  0:10:54s\n",
      "epoch 27 | loss: 1.02415 | val_0_unsup_loss: 1.01397 |  0:11:18s\n",
      "epoch 28 | loss: 1.02589 | val_0_unsup_loss: 1.01293 |  0:11:42s\n",
      "epoch 29 | loss: 1.02578 | val_0_unsup_loss: 1.01224 |  0:12:06s\n",
      "epoch 30 | loss: 1.02236 | val_0_unsup_loss: 1.01128 |  0:12:30s\n",
      "epoch 31 | loss: 1.02464 | val_0_unsup_loss: 1.01025 |  0:12:54s\n",
      "epoch 32 | loss: 1.02339 | val_0_unsup_loss: 1.00941 |  0:13:18s\n",
      "epoch 33 | loss: 1.02416 | val_0_unsup_loss: 1.00915 |  0:13:41s\n",
      "epoch 34 | loss: 1.02312 | val_0_unsup_loss: 1.00831 |  0:14:05s\n",
      "epoch 35 | loss: 1.02349 | val_0_unsup_loss: 1.00847 |  0:14:30s\n",
      "epoch 36 | loss: 1.02268 | val_0_unsup_loss: 1.00763 |  0:14:54s\n",
      "epoch 37 | loss: 1.02178 | val_0_unsup_loss: 1.00724 |  0:15:17s\n",
      "epoch 38 | loss: 1.02123 | val_0_unsup_loss: 1.00753 |  0:15:42s\n",
      "epoch 39 | loss: 1.02121 | val_0_unsup_loss: 1.00809 |  0:16:06s\n",
      "epoch 40 | loss: 1.02449 | val_0_unsup_loss: 1.00739 |  0:16:30s\n",
      "epoch 41 | loss: 1.01988 | val_0_unsup_loss: 1.00735 |  0:16:54s\n",
      "epoch 42 | loss: 1.02225 | val_0_unsup_loss: 1.00571 |  0:17:18s\n",
      "epoch 43 | loss: 1.02204 | val_0_unsup_loss: 1.00608 |  0:17:42s\n",
      "epoch 44 | loss: 1.02126 | val_0_unsup_loss: 1.00498 |  0:18:06s\n",
      "epoch 45 | loss: 1.02156 | val_0_unsup_loss: 1.00562 |  0:18:30s\n",
      "epoch 46 | loss: 1.02073 | val_0_unsup_loss: 1.00466 |  0:18:54s\n",
      "epoch 47 | loss: 1.02064 | val_0_unsup_loss: 1.00439 |  0:19:18s\n",
      "epoch 48 | loss: 1.02016 | val_0_unsup_loss: 1.00451 |  0:19:42s\n",
      "epoch 49 | loss: 1.0198  | val_0_unsup_loss: 1.00401 |  0:20:06s\n",
      "epoch 50 | loss: 1.02025 | val_0_unsup_loss: 1.0038  |  0:20:30s\n",
      "epoch 51 | loss: 1.02058 | val_0_unsup_loss: 1.00255 |  0:20:54s\n",
      "epoch 52 | loss: 1.01944 | val_0_unsup_loss: 1.00349 |  0:21:18s\n",
      "epoch 53 | loss: 1.01861 | val_0_unsup_loss: 1.00302 |  0:21:43s\n",
      "epoch 54 | loss: 1.0184  | val_0_unsup_loss: 1.00344 |  0:22:07s\n",
      "epoch 55 | loss: 1.01669 | val_0_unsup_loss: 1.00286 |  0:22:31s\n",
      "epoch 56 | loss: 1.01872 | val_0_unsup_loss: 1.00201 |  0:22:55s\n",
      "epoch 57 | loss: 1.01863 | val_0_unsup_loss: 1.0019  |  0:23:19s\n",
      "epoch 58 | loss: 1.01864 | val_0_unsup_loss: 1.0015  |  0:23:43s\n",
      "epoch 59 | loss: 1.0181  | val_0_unsup_loss: 1.00032 |  0:24:07s\n",
      "epoch 60 | loss: 1.01894 | val_0_unsup_loss: 1.00114 |  0:24:31s\n",
      "epoch 61 | loss: 1.01818 | val_0_unsup_loss: 1.00017 |  0:24:55s\n",
      "epoch 62 | loss: 1.01982 | val_0_unsup_loss: 1.00052 |  0:25:19s\n",
      "epoch 63 | loss: 1.01817 | val_0_unsup_loss: 1.00026 |  0:25:44s\n",
      "epoch 64 | loss: 1.01643 | val_0_unsup_loss: 1.00036 |  0:26:08s\n",
      "epoch 65 | loss: 1.01908 | val_0_unsup_loss: 0.99923 |  0:26:32s\n",
      "epoch 66 | loss: 1.01794 | val_0_unsup_loss: 0.99868 |  0:26:56s\n",
      "epoch 67 | loss: 1.01745 | val_0_unsup_loss: 0.99841 |  0:27:20s\n",
      "epoch 68 | loss: 1.01782 | val_0_unsup_loss: 0.9977  |  0:27:45s\n",
      "epoch 69 | loss: 1.01689 | val_0_unsup_loss: 0.99865 |  0:28:10s\n",
      "epoch 70 | loss: 1.01837 | val_0_unsup_loss: 0.99722 |  0:28:34s\n",
      "epoch 71 | loss: 1.01746 | val_0_unsup_loss: 0.9974  |  0:28:58s\n",
      "epoch 72 | loss: 1.01844 | val_0_unsup_loss: 0.99729 |  0:29:22s\n",
      "epoch 73 | loss: 1.01406 | val_0_unsup_loss: 0.99667 |  0:29:46s\n",
      "epoch 74 | loss: 1.01802 | val_0_unsup_loss: 0.99628 |  0:30:10s\n",
      "epoch 75 | loss: 1.01679 | val_0_unsup_loss: 0.99677 |  0:30:34s\n",
      "epoch 76 | loss: 1.01465 | val_0_unsup_loss: 0.99602 |  0:30:58s\n",
      "epoch 77 | loss: 1.01571 | val_0_unsup_loss: 0.99535 |  0:31:22s\n",
      "epoch 78 | loss: 1.01569 | val_0_unsup_loss: 0.99555 |  0:31:46s\n",
      "epoch 79 | loss: 1.01701 | val_0_unsup_loss: 0.99548 |  0:32:10s\n",
      "epoch 80 | loss: 1.01555 | val_0_unsup_loss: 0.9945  |  0:32:34s\n",
      "epoch 81 | loss: 1.01695 | val_0_unsup_loss: 0.99424 |  0:32:58s\n",
      "epoch 82 | loss: 1.01606 | val_0_unsup_loss: 0.99449 |  0:33:22s\n",
      "epoch 83 | loss: 1.01736 | val_0_unsup_loss: 0.99427 |  0:33:46s\n",
      "epoch 84 | loss: 1.01643 | val_0_unsup_loss: 0.99406 |  0:34:10s\n",
      "epoch 85 | loss: 1.01504 | val_0_unsup_loss: 0.99358 |  0:34:34s\n",
      "epoch 86 | loss: 1.01555 | val_0_unsup_loss: 0.99329 |  0:34:58s\n",
      "epoch 87 | loss: 1.01522 | val_0_unsup_loss: 0.9935  |  0:35:22s\n",
      "epoch 88 | loss: 1.01505 | val_0_unsup_loss: 0.99315 |  0:35:46s\n",
      "epoch 89 | loss: 1.01562 | val_0_unsup_loss: 0.99353 |  0:36:10s\n",
      "epoch 90 | loss: 1.01542 | val_0_unsup_loss: 0.99267 |  0:36:34s\n",
      "epoch 91 | loss: 1.01547 | val_0_unsup_loss: 0.99313 |  0:36:58s\n",
      "epoch 92 | loss: 1.01546 | val_0_unsup_loss: 0.99188 |  0:37:22s\n",
      "epoch 93 | loss: 1.01675 | val_0_unsup_loss: 0.9923  |  0:37:46s\n",
      "epoch 94 | loss: 1.01312 | val_0_unsup_loss: 0.99216 |  0:38:10s\n",
      "epoch 95 | loss: 1.01419 | val_0_unsup_loss: 0.99215 |  0:38:34s\n",
      "epoch 96 | loss: 1.015   | val_0_unsup_loss: 0.99181 |  0:38:58s\n",
      "epoch 97 | loss: 1.01427 | val_0_unsup_loss: 0.99251 |  0:39:22s\n",
      "epoch 98 | loss: 1.01529 | val_0_unsup_loss: 0.99158 |  0:39:46s\n",
      "epoch 99 | loss: 1.01378 | val_0_unsup_loss: 0.99144 |  0:40:09s\n",
      "Stop training because you reached max_epochs = 100 with best_epoch = 99 and best_val_0_unsup_loss = 0.99144\n",
      "Best weights from best epoch are automatically used!\n"
     ]
    }
   ],
   "source": [
    "unsupervised_model.fit(\n",
    "    X_train=X_train,\n",
    "    eval_set=[X_valid],\n",
    "    pretraining_ratio=0.8)"
   ]
  },
  {
   "cell_type": "code",
   "execution_count": 11,
   "id": "guided-second",
   "metadata": {
    "execution": {
     "iopub.execute_input": "2021-06-01T06:04:51.915143Z",
     "iopub.status.busy": "2021-06-01T06:04:51.914398Z",
     "iopub.status.idle": "2021-06-01T06:18:36.957945Z",
     "shell.execute_reply": "2021-06-01T06:18:36.957373Z"
    },
    "papermill": {
     "duration": 825.098099,
     "end_time": "2021-06-01T06:18:36.958105",
     "exception": false,
     "start_time": "2021-06-01T06:04:51.860006",
     "status": "completed"
    },
    "tags": []
   },
   "outputs": [
    {
     "name": "stdout",
     "output_type": "stream",
     "text": [
      "Loading weights from unsupervised pretraining\n",
      "epoch 0  | loss: 2.22178 | train_logloss: 2.20217 | train_balanced_accuracy: 0.11348 | val_logloss: 2.2021  | val_balanced_accuracy: 0.10819 |  0:00:27s\n",
      "epoch 1  | loss: 2.19877 | train_logloss: 2.19537 | train_balanced_accuracy: 0.11572 | val_logloss: 2.19561 | val_balanced_accuracy: 0.11085 |  0:00:54s\n",
      "epoch 2  | loss: 2.19395 | train_logloss: 2.19106 | train_balanced_accuracy: 0.12674 | val_logloss: 2.1916  | val_balanced_accuracy: 0.12707 |  0:01:21s\n",
      "epoch 3  | loss: 2.18974 | train_logloss: 2.18342 | train_balanced_accuracy: 0.12939 | val_logloss: 2.18419 | val_balanced_accuracy: 0.12972 |  0:01:49s\n",
      "epoch 4  | loss: 2.18512 | train_logloss: 2.17325 | train_balanced_accuracy: 0.13031 | val_logloss: 2.17439 | val_balanced_accuracy: 0.1301  |  0:02:16s\n",
      "epoch 5  | loss: 2.1814  | train_logloss: 2.16494 | train_balanced_accuracy: 0.13112 | val_logloss: 2.16612 | val_balanced_accuracy: 0.13144 |  0:02:43s\n",
      "epoch 6  | loss: 2.17878 | train_logloss: 2.15477 | train_balanced_accuracy: 0.13193 | val_logloss: 2.15679 | val_balanced_accuracy: 0.13122 |  0:03:10s\n",
      "epoch 7  | loss: 2.17647 | train_logloss: 2.14148 | train_balanced_accuracy: 0.13194 | val_logloss: 2.14365 | val_balanced_accuracy: 0.1315  |  0:03:37s\n",
      "epoch 8  | loss: 2.17426 | train_logloss: 2.12876 | train_balanced_accuracy: 0.13219 | val_logloss: 2.13165 | val_balanced_accuracy: 0.13253 |  0:04:05s\n",
      "epoch 9  | loss: 2.17257 | train_logloss: 2.11653 | train_balanced_accuracy: 0.13139 | val_logloss: 2.11934 | val_balanced_accuracy: 0.1308  |  0:04:32s\n",
      "epoch 10 | loss: 2.17114 | train_logloss: 2.11149 | train_balanced_accuracy: 0.13075 | val_logloss: 2.11402 | val_balanced_accuracy: 0.132   |  0:04:59s\n",
      "epoch 11 | loss: 2.17089 | train_logloss: 2.10742 | train_balanced_accuracy: 0.1307  | val_logloss: 2.11018 | val_balanced_accuracy: 0.13174 |  0:05:26s\n",
      "epoch 12 | loss: 2.17099 | train_logloss: 2.10582 | train_balanced_accuracy: 0.13642 | val_logloss: 2.10844 | val_balanced_accuracy: 0.13538 |  0:05:53s\n",
      "epoch 13 | loss: 2.1683  | train_logloss: 2.10012 | train_balanced_accuracy: 0.13747 | val_logloss: 2.10306 | val_balanced_accuracy: 0.13454 |  0:06:20s\n",
      "epoch 14 | loss: 2.16906 | train_logloss: 2.10337 | train_balanced_accuracy: 0.1692  | val_logloss: 2.10597 | val_balanced_accuracy: 0.16662 |  0:06:48s\n",
      "epoch 15 | loss: 2.1661  | train_logloss: 2.11271 | train_balanced_accuracy: 0.16836 | val_logloss: 2.1153  | val_balanced_accuracy: 0.16684 |  0:07:15s\n",
      "epoch 16 | loss: 2.15995 | train_logloss: 2.1074  | train_balanced_accuracy: 0.16939 | val_logloss: 2.11054 | val_balanced_accuracy: 0.166   |  0:07:42s\n",
      "epoch 17 | loss: 2.1497  | train_logloss: 2.0931  | train_balanced_accuracy: 0.16957 | val_logloss: 2.09733 | val_balanced_accuracy: 0.16892 |  0:08:09s\n",
      "epoch 18 | loss: 2.13894 | train_logloss: 2.09433 | train_balanced_accuracy: 0.17141 | val_logloss: 2.09786 | val_balanced_accuracy: 0.16754 |  0:08:37s\n",
      "epoch 19 | loss: 2.13303 | train_logloss: 2.07966 | train_balanced_accuracy: 0.17321 | val_logloss: 2.08406 | val_balanced_accuracy: 0.172   |  0:09:04s\n",
      "epoch 20 | loss: 2.13043 | train_logloss: 2.08612 | train_balanced_accuracy: 0.17517 | val_logloss: 2.09085 | val_balanced_accuracy: 0.17503 |  0:09:31s\n",
      "epoch 21 | loss: 2.13042 | train_logloss: 2.0855  | train_balanced_accuracy: 0.17591 | val_logloss: 2.0905  | val_balanced_accuracy: 0.17439 |  0:09:58s\n",
      "epoch 22 | loss: 2.12735 | train_logloss: 2.07813 | train_balanced_accuracy: 0.17878 | val_logloss: 2.08313 | val_balanced_accuracy: 0.17348 |  0:10:26s\n",
      "epoch 23 | loss: 2.12317 | train_logloss: 2.07067 | train_balanced_accuracy: 0.18098 | val_logloss: 2.07656 | val_balanced_accuracy: 0.17522 |  0:10:53s\n",
      "epoch 24 | loss: 2.12234 | train_logloss: 2.07134 | train_balanced_accuracy: 0.18241 | val_logloss: 2.0775  | val_balanced_accuracy: 0.17759 |  0:11:21s\n",
      "epoch 25 | loss: 2.12014 | train_logloss: 2.06071 | train_balanced_accuracy: 0.18342 | val_logloss: 2.06729 | val_balanced_accuracy: 0.18048 |  0:11:48s\n",
      "epoch 26 | loss: 2.11769 | train_logloss: 2.06542 | train_balanced_accuracy: 0.18437 | val_logloss: 2.07244 | val_balanced_accuracy: 0.17981 |  0:12:16s\n",
      "epoch 27 | loss: 2.11535 | train_logloss: 2.06812 | train_balanced_accuracy: 0.18557 | val_logloss: 2.07532 | val_balanced_accuracy: 0.18035 |  0:12:43s\n",
      "epoch 28 | loss: 2.11657 | train_logloss: 2.06198 | train_balanced_accuracy: 0.18555 | val_logloss: 2.06899 | val_balanced_accuracy: 0.18142 |  0:13:11s\n",
      "epoch 29 | loss: 2.11449 | train_logloss: 2.05721 | train_balanced_accuracy: 0.18389 | val_logloss: 2.0637  | val_balanced_accuracy: 0.18172 |  0:13:38s\n",
      "Stop training because you reached max_epochs = 30 with best_epoch = 29 and best_val_balanced_accuracy = 0.18172\n",
      "Best weights from best epoch are automatically used!\n"
     ]
    }
   ],
   "source": [
    "clf.fit(X_train=X_train, \n",
    "    y_train=y_train,\n",
    "    eval_set=[(X_train, y_train), (X_valid, y_valid)],\n",
    "    eval_name=['train', 'val'],\n",
    "    eval_metric=[\"logloss\", 'balanced_accuracy'],\n",
    "    max_epochs=max_epochs , patience=15,\n",
    "    batch_size=batch_size,\n",
    "    virtual_batch_size=virtual_batch,\n",
    "    num_workers=workers,\n",
    "    weights=sample_type,\n",
    "    drop_last=False,\n",
    "    from_unsupervised=unsupervised_model)"
   ]
  },
  {
   "cell_type": "code",
   "execution_count": 12,
   "id": "adjacent-bridal",
   "metadata": {
    "execution": {
     "iopub.execute_input": "2021-06-01T06:18:37.092812Z",
     "iopub.status.busy": "2021-06-01T06:18:37.092004Z",
     "iopub.status.idle": "2021-06-01T06:18:37.256886Z",
     "shell.execute_reply": "2021-06-01T06:18:37.256192Z"
    },
    "papermill": {
     "duration": 0.243373,
     "end_time": "2021-06-01T06:18:37.257033",
     "exception": false,
     "start_time": "2021-06-01T06:18:37.013660",
     "status": "completed"
    },
    "tags": []
   },
   "outputs": [
    {
     "data": {
      "text/plain": [
       "[<matplotlib.lines.Line2D at 0x7f70f24bbd90>]"
      ]
     },
     "execution_count": 12,
     "metadata": {},
     "output_type": "execute_result"
    },
    {
     "data": {
      "image/png": "[encoded data removed]",
      "text/plain": [
       "<Figure size 432x288 with 1 Axes>"
      ]
     },
     "metadata": {
      "needs_background": "light"
     },
     "output_type": "display_data"
    }
   ],
   "source": [
    "# plot losses\n",
    "plt.plot(clf.history['loss'])"
   ]
  },
  {
   "cell_type": "code",
   "execution_count": 13,
   "id": "hispanic-yugoslavia",
   "metadata": {
    "execution": {
     "iopub.execute_input": "2021-06-01T06:18:37.395398Z",
     "iopub.status.busy": "2021-06-01T06:18:37.394617Z",
     "iopub.status.idle": "2021-06-01T06:18:37.528155Z",
     "shell.execute_reply": "2021-06-01T06:18:37.527616Z"
    },
    "papermill": {
     "duration": 0.214009,
     "end_time": "2021-06-01T06:18:37.528301",
     "exception": false,
     "start_time": "2021-06-01T06:18:37.314292",
     "status": "completed"
    },
    "tags": []
   },
   "outputs": [
    {
     "data": {
      "text/plain": [
       "[<matplotlib.lines.Line2D at 0x7f70f23d04d0>]"
      ]
     },
     "execution_count": 13,
     "metadata": {},
     "output_type": "execute_result"
    },
    {
     "data": {
      "image/png": "[encoded data removed]",
      "text/plain": [
       "<Figure size 432x288 with 1 Axes>"
      ]
     },
     "metadata": {
      "needs_background": "light"
     },
     "output_type": "display_data"
    }
   ],
   "source": [
    "# plot auc\n",
    "plt.plot(clf.history['train_logloss'])\n",
    "plt.plot(clf.history['val_logloss'])"
   ]
  },
  {
   "cell_type": "markdown",
   "id": "acknowledged-pastor",
   "metadata": {
    "papermill": {
     "duration": 0.059348,
     "end_time": "2021-06-01T06:18:37.646461",
     "exception": false,
     "start_time": "2021-06-01T06:18:37.587113",
     "status": "completed"
    },
    "tags": []
   },
   "source": [
    "# Submission"
   ]
  },
  {
   "cell_type": "code",
   "execution_count": 14,
   "id": "alone-holiday",
   "metadata": {
    "execution": {
     "iopub.execute_input": "2021-06-01T06:18:37.768469Z",
     "iopub.status.busy": "2021-06-01T06:18:37.767865Z",
     "iopub.status.idle": "2021-06-01T06:18:44.648098Z",
     "shell.execute_reply": "2021-06-01T06:18:44.647417Z"
    },
    "papermill": {
     "duration": 6.94366,
     "end_time": "2021-06-01T06:18:44.648239",
     "exception": false,
     "start_time": "2021-06-01T06:18:37.704579",
     "status": "completed"
    },
    "tags": []
   },
   "outputs": [],
   "source": [
    "test = pd.read_csv('../input/tabular-playground-series-jun-2021/test.csv')\n",
    "test_indices = test.index\n",
    "test_ds = test[features].values[test_indices]\n",
    "\n",
    "sample_submission = pd.read_csv('../input/tabular-playground-series-jun-2021/sample_submission.csv')\n",
    "sample_submission[['Class_1','Class_2', 'Class_3', 'Class_4', 'Class_5', 'Class_6', 'Class_7', 'Class_8', 'Class_9']] = clf.predict_proba(test_ds)\n",
    "sample_submission.to_csv('tabnet_submission.csv',index = False)"
   ]
  },
  {
   "cell_type": "code",
   "execution_count": 15,
   "id": "musical-riverside",
   "metadata": {
    "execution": {
     "iopub.execute_input": "2021-06-01T06:18:44.769589Z",
     "iopub.status.busy": "2021-06-01T06:18:44.768992Z",
     "iopub.status.idle": "2021-06-01T06:18:44.788140Z",
     "shell.execute_reply": "2021-06-01T06:18:44.787513Z"
    },
    "papermill": {
     "duration": 0.081897,
     "end_time": "2021-06-01T06:18:44.788268",
     "exception": false,
     "start_time": "2021-06-01T06:18:44.706371",
     "status": "completed"
    },
    "tags": []
   },
   "outputs": [
    {
     "data": {
      "text/html": [
       "<div>\n",
       "<style scoped>\n",
       "    .dataframe tbody tr th:only-of-type {\n",
       "        vertical-align: middle;\n",
       "    }\n",
       "\n",
       "    .dataframe tbody tr th {\n",
       "        vertical-align: top;\n",
       "    }\n",
       "\n",
       "    .dataframe thead th {\n",
       "        text-align: right;\n",
       "    }\n",
       "</style>\n",
       "<table border=\"1\" class=\"dataframe\">\n",
       "  <thead>\n",
       "    <tr style=\"text-align: right;\">\n",
       "      <th></th>\n",
       "      <th>id</th>\n",
       "      <th>Class_1</th>\n",
       "      <th>Class_2</th>\n",
       "      <th>Class_3</th>\n",
       "      <th>Class_4</th>\n",
       "      <th>Class_5</th>\n",
       "      <th>Class_6</th>\n",
       "      <th>Class_7</th>\n",
       "      <th>Class_8</th>\n",
       "      <th>Class_9</th>\n",
       "    </tr>\n",
       "  </thead>\n",
       "  <tbody>\n",
       "    <tr>\n",
       "      <th>0</th>\n",
       "      <td>200000</td>\n",
       "      <td>0.105013</td>\n",
       "      <td>0.030583</td>\n",
       "      <td>0.050177</td>\n",
       "      <td>0.097657</td>\n",
       "      <td>0.123886</td>\n",
       "      <td>0.137601</td>\n",
       "      <td>0.163162</td>\n",
       "      <td>0.190370</td>\n",
       "      <td>0.101550</td>\n",
       "    </tr>\n",
       "    <tr>\n",
       "      <th>1</th>\n",
       "      <td>200001</td>\n",
       "      <td>0.105300</td>\n",
       "      <td>0.028524</td>\n",
       "      <td>0.047995</td>\n",
       "      <td>0.099514</td>\n",
       "      <td>0.128135</td>\n",
       "      <td>0.119248</td>\n",
       "      <td>0.171339</td>\n",
       "      <td>0.198611</td>\n",
       "      <td>0.101334</td>\n",
       "    </tr>\n",
       "    <tr>\n",
       "      <th>2</th>\n",
       "      <td>200002</td>\n",
       "      <td>0.103851</td>\n",
       "      <td>0.026284</td>\n",
       "      <td>0.045370</td>\n",
       "      <td>0.113098</td>\n",
       "      <td>0.124386</td>\n",
       "      <td>0.135002</td>\n",
       "      <td>0.158669</td>\n",
       "      <td>0.206280</td>\n",
       "      <td>0.087061</td>\n",
       "    </tr>\n",
       "    <tr>\n",
       "      <th>3</th>\n",
       "      <td>200003</td>\n",
       "      <td>0.107621</td>\n",
       "      <td>0.045044</td>\n",
       "      <td>0.063346</td>\n",
       "      <td>0.135358</td>\n",
       "      <td>0.131953</td>\n",
       "      <td>0.097157</td>\n",
       "      <td>0.138374</td>\n",
       "      <td>0.172204</td>\n",
       "      <td>0.108943</td>\n",
       "    </tr>\n",
       "    <tr>\n",
       "      <th>4</th>\n",
       "      <td>200004</td>\n",
       "      <td>0.116302</td>\n",
       "      <td>0.037413</td>\n",
       "      <td>0.060385</td>\n",
       "      <td>0.121318</td>\n",
       "      <td>0.135423</td>\n",
       "      <td>0.092812</td>\n",
       "      <td>0.157834</td>\n",
       "      <td>0.176246</td>\n",
       "      <td>0.102267</td>\n",
       "    </tr>\n",
       "  </tbody>\n",
       "</table>\n",
       "</div>"
      ],
      "text/plain": [
       "       id   Class_1   Class_2   Class_3   Class_4   Class_5   Class_6  \\\n",
       "0  200000  0.105013  0.030583  0.050177  0.097657  0.123886  0.137601   \n",
       "1  200001  0.105300  0.028524  0.047995  0.099514  0.128135  0.119248   \n",
       "2  200002  0.103851  0.026284  0.045370  0.113098  0.124386  0.135002   \n",
       "3  200003  0.107621  0.045044  0.063346  0.135358  0.131953  0.097157   \n",
       "4  200004  0.116302  0.037413  0.060385  0.121318  0.135423  0.092812   \n",
       "\n",
       "    Class_7   Class_8   Class_9  \n",
       "0  0.163162  0.190370  0.101550  \n",
       "1  0.171339  0.198611  0.101334  \n",
       "2  0.158669  0.206280  0.087061  \n",
       "3  0.138374  0.172204  0.108943  \n",
       "4  0.157834  0.176246  0.102267  "
      ]
     },
     "execution_count": 15,
     "metadata": {},
     "output_type": "execute_result"
    }
   ],
   "source": [
    "sample_submission.head()"
   ]
  }
 ],
 "metadata": {
  "kernelspec": {
   "display_name": "Python 3",
   "language": "python",
   "name": "python3"
  },
  "language_info": {
   "codemirror_mode": {
    "name": "ipython",
    "version": 3
   },
   "file_extension": ".py",
   "mimetype": "text/x-python",
   "name": "python",
   "nbconvert_exporter": "python",
   "pygments_lexer": "ipython3",
   "version": "3.7.10"
  },
  "papermill": {
   "default_parameters": {},
   "duration": 3290.944927,
   "end_time": "2021-06-01T06:18:46.417069",
   "environment_variables": {},
   "exception": null,
   "input_path": "__notebook__.ipynb",
   "output_path": "__notebook__.ipynb",
   "parameters": {},
   "start_time": "2021-06-01T05:23:55.472142",
   "version": "2.3.3"
  }
 },
 "nbformat": 4,
 "nbformat_minor": 5
}
